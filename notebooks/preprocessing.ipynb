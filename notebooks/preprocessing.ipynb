{
 "cells": [
  {
   "cell_type": "markdown",
   "id": "b7a68d28",
   "metadata": {},
   "source": [
    "## Amazon Sentiment Analysis - Preprocessing\n",
    "Read from .bz2 FastText format and convert to CSV"
   ]
  },
  {
   "cell_type": "code",
   "execution_count": 1,
   "id": "2e4d79dc",
   "metadata": {},
   "outputs": [],
   "source": [
    "# Import necessary libraries\n",
    "import os\n",
    "import pandas as pd\n",
    "import bz2\n",
    "from tqdm import tqdm"
   ]
  },
  {
   "cell_type": "code",
   "execution_count": 2,
   "id": "8b34b8cb",
   "metadata": {},
   "outputs": [],
   "source": [
    "# Set path to raw and processed data\n",
    "RAW_DIR = \"../data/raw\"\n",
    "PROCESSED_DIR = \"../data/processed\""
   ]
  },
  {
   "cell_type": "code",
   "execution_count": 3,
   "id": "190c0bc0",
   "metadata": {},
   "outputs": [],
   "source": [
    "os.makedirs(PROCESSED_DIR, exist_ok=True)"
   ]
  },
  {
   "cell_type": "markdown",
   "id": "eb986a29",
   "metadata": {},
   "source": [
    "## Function to load FastText-format bz2 file\n",
    "Format: __label__1 This product is terrible"
   ]
  },
  {
   "cell_type": "code",
   "execution_count": 4,
   "id": "ce218c78",
   "metadata": {},
   "outputs": [],
   "source": [
    "def load_bz2_fasttext_file(filepath, max_lines=None):\n",
    "    texts, labels = [], []\n",
    "    with bz2.open(filepath, mode='rt', encoding='utf-8') as f:\n",
    "        for i, line in enumerate(tqdm(f, desc=f\"Reading {os.path.basename(filepath)}\")):\n",
    "            if max_lines and i >= max_lines:\n",
    "                break\n",
    "            parts = line.strip().split(' ', 1)\n",
    "            if len(parts) == 2:\n",
    "                label, text = parts\n",
    "                labels.append(int(label.replace('__label__', '')))\n",
    "                texts.append(text)\n",
    "    return pd.DataFrame({'label': labels, 'text': texts})"
   ]
  },
  {
   "cell_type": "code",
   "execution_count": 5,
   "id": "1e7bbd25",
   "metadata": {},
   "outputs": [],
   "source": [
    "# Load train and test datasets\n",
    "train_path = os.path.join(RAW_DIR, \"train.ft.txt.bz2\")\n",
    "test_path = os.path.join(RAW_DIR, \"test.ft.txt.bz2\")"
   ]
  },
  {
   "cell_type": "code",
   "execution_count": 6,
   "id": "4c728edb",
   "metadata": {},
   "outputs": [
    {
     "name": "stderr",
     "output_type": "stream",
     "text": [
      "Reading train.ft.txt.bz2: 3600000it [00:38, 92851.40it/s]\n",
      "Reading test.ft.txt.bz2: 400000it [00:04, 86515.23it/s]\n"
     ]
    }
   ],
   "source": [
    "# You can set max_lines=100000 for faster testing\n",
    "df_train = load_bz2_fasttext_file(train_path)\n",
    "df_test = load_bz2_fasttext_file(test_path)"
   ]
  },
  {
   "cell_type": "code",
   "execution_count": 7,
   "id": "2e1e6168",
   "metadata": {},
   "outputs": [
    {
     "name": "stdout",
     "output_type": "stream",
     "text": [
      "Train sample:\n",
      "    label                                               text\n",
      "0      2  Stuning even for the non-gamer: This sound tra...\n",
      "1      2  The best soundtrack ever to anything.: I'm rea...\n",
      "2      2  Amazing!: This soundtrack is my favorite music...\n",
      "3      2  Excellent Soundtrack: I truly like this soundt...\n",
      "4      2  Remember, Pull Your Jaw Off The Floor After He...\n",
      "Test sample:\n",
      "    label                                               text\n",
      "0      2  Great CD: My lovely Pat has one of the GREAT v...\n",
      "1      2  One of the best game music soundtracks - for a...\n",
      "2      1  Batteries died within a year ...: I bought thi...\n",
      "3      2  works fine, but Maha Energy is better: Check o...\n",
      "4      2  Great for the non-audiophile: Reviewed quite a...\n"
     ]
    }
   ],
   "source": [
    "# Preview\n",
    "print(\"Train sample:\\n\", df_train.head())\n",
    "print(\"Test sample:\\n\", df_test.head())"
   ]
  },
  {
   "cell_type": "code",
   "execution_count": 8,
   "id": "66061e41",
   "metadata": {},
   "outputs": [],
   "source": [
    "# Save to CSV in processed folder\n",
    "train_csv_path = os.path.join(PROCESSED_DIR, \"train.csv\")\n",
    "test_csv_path = os.path.join(PROCESSED_DIR, \"test.csv\")"
   ]
  },
  {
   "cell_type": "code",
   "execution_count": 9,
   "id": "dceda290",
   "metadata": {},
   "outputs": [],
   "source": [
    "\n",
    "df_train.to_csv(train_csv_path, index=False)\n",
    "df_test.to_csv(test_csv_path, index=False)"
   ]
  },
  {
   "cell_type": "code",
   "execution_count": 10,
   "id": "14cf4468",
   "metadata": {},
   "outputs": [
    {
     "name": "stdout",
     "output_type": "stream",
     "text": [
      "Saved processed files:\n",
      " - ../data/processed\\train.csv\n",
      " - ../data/processed\\test.csv\n"
     ]
    }
   ],
   "source": [
    "\n",
    "print(f\"Saved processed files:\\n - {train_csv_path}\\n - {test_csv_path}\")"
   ]
  }
 ],
 "metadata": {
  "kernelspec": {
   "display_name": "sentiment-nlp",
   "language": "python",
   "name": "python3"
  },
  "language_info": {
   "codemirror_mode": {
    "name": "ipython",
    "version": 3
   },
   "file_extension": ".py",
   "mimetype": "text/x-python",
   "name": "python",
   "nbconvert_exporter": "python",
   "pygments_lexer": "ipython3",
   "version": "3.10.18"
  }
 },
 "nbformat": 4,
 "nbformat_minor": 5
}
